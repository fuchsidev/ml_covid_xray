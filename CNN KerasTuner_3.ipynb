{
 "cells": [
  {
   "cell_type": "code",
   "execution_count": 1,
   "id": "fd658bb6",
   "metadata": {},
   "outputs": [],
   "source": [
    "#pip install keras-tuner --upgrade"
   ]
  },
  {
   "cell_type": "code",
   "execution_count": 2,
   "id": "8ff12613",
   "metadata": {},
   "outputs": [],
   "source": [
    "import matplotlib.pyplot as plt\n",
    "import numpy as np\n",
    "import os\n",
    "from PIL import Image\n",
    "import datetime\n",
    "import tensorflow as tf\n",
    "import matplotlib.pyplot as plt\n",
    "from tensorflow.keras import backend as K\n",
    "%matplotlib inline\n",
    "\n",
    "from tensorflow.keras.models import Sequential\n",
    "from tensorflow.keras.layers import Conv2D, Flatten, Dense, MaxPooling2D, Dropout"
   ]
  },
  {
   "cell_type": "code",
   "execution_count": 3,
   "id": "92120fb8",
   "metadata": {},
   "outputs": [],
   "source": [
    "def fetch_dataset(path):\n",
    "    images = []\n",
    "    labels = []\n",
    "    for dir1 in os.listdir(path):\n",
    "        for file in os.listdir(os.path.join(path,dir1)):\n",
    "            image_path = os.path.join(path,dir1,file)\n",
    "            with Image.open(image_path).convert('L') as img:\n",
    "                arr = np.array(img.getdata()).reshape(256, 256, 1) / 255\n",
    "                images.append(arr)\n",
    "                labels.append(dir1)\n",
    "    \n",
    "    unique_labels = {k: v for v,k in enumerate(np.unique(labels))}\n",
    "    numeric_labels = [unique_labels[labels[i]] for i in range(len(labels))]\n",
    "    #print(numeric_labels)\n",
    "    return np.array(images),numeric_labels\n"
   ]
  },
  {
   "cell_type": "code",
   "execution_count": null,
   "id": "d5905856",
   "metadata": {},
   "outputs": [],
   "source": [
    "train_path = os.path.join(\"data\",\"train\")\n",
    "val_path = os.path.join(\"data\",\"val\")\n",
    "test_path = os.path.join(\"data\",\"test\")\n",
    "\n",
    "\n",
    "x_train,y_train = fetch_dataset(train_path)\n",
    "x_val,y_val = fetch_dataset(val_path)\n",
    "#x_test,y_test = fetch_dataset(test_path)"
   ]
  },
  {
   "cell_type": "code",
   "execution_count": null,
   "id": "a0bd240d",
   "metadata": {},
   "outputs": [],
   "source": [
    "y_train_classes = y_train\n",
    "y_val_classes = y_val\n",
    "y_train = tf.keras.utils.to_categorical(y_train_classes, 4)\n",
    "y_val = tf.keras.utils.to_categorical(y_val_classes, 4)"
   ]
  },
  {
   "cell_type": "code",
   "execution_count": null,
   "id": "86eea671",
   "metadata": {},
   "outputs": [],
   "source": [
    "classes = [\"COVID\", \"HEALTHY\", \"PNEUMONIA_BAC\", \"PNEUMONIA_VIR\"]"
   ]
  },
  {
   "cell_type": "code",
   "execution_count": null,
   "id": "1fc40b2a",
   "metadata": {},
   "outputs": [],
   "source": [
    "def recall_m(y_true, y_pred):\n",
    "    true_positives = K.sum(K.round(K.clip(y_true * y_pred, 0, 1)))\n",
    "    possible_positives = K.sum(K.round(K.clip(y_true, 0, 1)))\n",
    "    recall = true_positives / (possible_positives + K.epsilon())\n",
    "    return recall\n",
    "\n",
    "def precision_m(y_true, y_pred):\n",
    "    true_positives = K.sum(K.round(K.clip(y_true * y_pred, 0, 1)))\n",
    "    predicted_positives = K.sum(K.round(K.clip(y_pred, 0, 1)))\n",
    "    precision = true_positives / (predicted_positives + K.epsilon())\n",
    "    return precision\n",
    "\n",
    "def f1_m(y_true, y_pred):\n",
    "    precision = precision_m(y_true, y_pred)\n",
    "    recall = recall_m(y_true, y_pred)\n",
    "    return 2*((precision*recall)/(precision+recall+K.epsilon()))"
   ]
  },
  {
   "cell_type": "code",
   "execution_count": null,
   "id": "6ce307b3",
   "metadata": {},
   "outputs": [],
   "source": [
    "# early stopping values\n",
    "callback_stop = tf.keras.callbacks.EarlyStopping(\n",
    "    monitor=\"recall_m\",\n",
    "    min_delta=0.0003,\n",
    "    patience=5,\n",
    "    verbose=0,\n",
    "    mode=\"auto\",\n",
    "    baseline=None,\n",
    "    restore_best_weights=True)"
   ]
  },
  {
   "cell_type": "markdown",
   "id": "a9b882c0",
   "metadata": {},
   "source": [
    "# Keras Tuner part"
   ]
  },
  {
   "cell_type": "markdown",
   "id": "84aeaf88",
   "metadata": {},
   "source": [
    "### Iteration 4"
   ]
  },
  {
   "cell_type": "markdown",
   "id": "f1850e66",
   "metadata": {},
   "source": [
    "Dropout layer test + dropout rate"
   ]
  },
  {
   "cell_type": "code",
   "execution_count": null,
   "id": "0e9068b2",
   "metadata": {},
   "outputs": [],
   "source": [
    "import keras_tuner as kt\n",
    "from keras_tuner import Objective"
   ]
  },
  {
   "cell_type": "markdown",
   "id": "bfdd43af",
   "metadata": {},
   "source": [
    "# Feature Maps test\n",
    "## für Moritz\n",
    "Kommentare bei der search funktion weiter unten raus nehmen und laufen lassen"
   ]
  },
  {
   "cell_type": "code",
   "execution_count": null,
   "id": "83898e3d",
   "metadata": {},
   "outputs": [],
   "source": [
    "def build_model_2(hp):\n",
    "    data_dims = (256, 256, 1)\n",
    "    dropout = hp.Boolean(\"dropout\")\n",
    "    d_rate = hp.Float(\"d_rate\", min_value=0.30, max_value=0.70, step=0.20)\n",
    "\n",
    "    model = Sequential()\n",
    "    model.add(Conv2D(15,kernel_size=(3, 3), activation=\"relu\", padding=\"same\", input_shape=data_dims))\n",
    "    model.add(MaxPooling2D(pool_size=(2, 2)))\n",
    "    \n",
    "    model.add(Conv2D(15, kernel_size=(3, 3), activation=\"relu\", padding=\"same\"))\n",
    "    model.add(MaxPooling2D(pool_size=(2, 2)))\n",
    "    if dropout:\n",
    "        model.add(Dropout(d_rate))\n",
    "    model.add(Conv2D(15, kernel_size=(3, 3), activation=\"relu\", padding=\"same\"))\n",
    "    model.add(MaxPooling2D(pool_size=(2, 2)))\n",
    "    if dropout:\n",
    "        model.add(Dropout(d_rate))\n",
    "    model.add(Conv2D(15, kernel_size=(3, 3), activation=\"relu\", padding=\"same\"))\n",
    "    model.add(MaxPooling2D(pool_size=(2, 2)))\n",
    "    if dropout:\n",
    "        model.add(Dropout(d_rate))\n",
    "    \n",
    "    model.add(Flatten())\n",
    "    model.add(Dense(16, activation=\"sigmoid\"))\n",
    "    model.add(Dropout(0.25))\n",
    "    model.add(Dense(4, activation=\"softmax\"))\n",
    "\n",
    "    model.compile(\n",
    "        optimizer=\"adam\",\n",
    "        loss=\"categorical_crossentropy\",\n",
    "        metrics=[\"accuracy\", \"categorical_crossentropy\", f1_m, precision_m, recall_m])\n",
    "    return model\n"
   ]
  },
  {
   "cell_type": "code",
   "execution_count": null,
   "id": "47623112",
   "metadata": {},
   "outputs": [],
   "source": [
    "build_model_2(kt.HyperParameters())"
   ]
  },
  {
   "cell_type": "code",
   "execution_count": null,
   "id": "ffe789f2",
   "metadata": {},
   "outputs": [],
   "source": [
    "tuner = kt.RandomSearch(\n",
    "    hypermodel=build_model_2,\n",
    "    objective=Objective(\"val_recall_m\", direction=\"max\"),\n",
    "    max_trials=20,\n",
    "    executions_per_trial=2,\n",
    "    overwrite=True,\n",
    "    directory=\"my_dir\",\n",
    "    project_name=\"x-ray-test\"\n",
    ")"
   ]
  },
  {
   "cell_type": "markdown",
   "id": "7f7a609f",
   "metadata": {},
   "source": [
    "Search funktion für Moritz. Hier Kommentare raus nehmen"
   ]
  },
  {
   "cell_type": "code",
   "execution_count": null,
   "id": "2766197b",
   "metadata": {},
   "outputs": [],
   "source": [
    "# tuner.search(x_train, y_train, \n",
    "#              epochs=4, \n",
    "#              batch_size=256,\n",
    "#              validation_data=(x_val, y_val), \n",
    "#              verbose=1\n",
    "#         )"
   ]
  },
  {
   "cell_type": "markdown",
   "id": "af1cfc18",
   "metadata": {},
   "source": [
    "# Conv layer test\n",
    "## für Georg\n",
    "Kommentare bei der search funktion weiter unten raus nehmen und laufen lassen"
   ]
  },
  {
   "cell_type": "code",
   "execution_count": null,
   "id": "17eafb72",
   "metadata": {},
   "outputs": [],
   "source": [
    "def build_model_3(hp):\n",
    "    data_dims = (256, 256, 1)\n",
    "    d_rate = hp.Float(\"d_rate\", min_value=0.30, max_value=0.70, step=0.20)\n",
    "\n",
    "    model = Sequential()\n",
    "    model.add(Conv2D(15,kernel_size=(3, 3), activation=\"relu\", padding=\"same\", input_shape=data_dims))\n",
    "    model.add(MaxPooling2D(pool_size=(2, 2)))\n",
    "    \n",
    "    model.add(Conv2D(15, kernel_size=(3, 3), activation=\"relu\", padding=\"same\"))\n",
    "    model.add(MaxPooling2D(pool_size=(2, 2)))\n",
    "    if hp.Boolean(\"dropout_1\"):\n",
    "        model.add(Dropout(d_rate))\n",
    "    model.add(Conv2D(15, kernel_size=(3, 3), activation=\"relu\", padding=\"same\"))\n",
    "    model.add(MaxPooling2D(pool_size=(2, 2)))\n",
    "    if hp.Boolean(\"dropout_2\"):\n",
    "        model.add(Dropout(d_rate))\n",
    "    model.add(Conv2D(15, kernel_size=(3, 3), activation=\"relu\", padding=\"same\"))\n",
    "    model.add(MaxPooling2D(pool_size=(2, 2)))\n",
    "    if hp.Boolean(\"dropout_3\"):\n",
    "        model.add(Dropout(d_rate))\n",
    "    \n",
    "    model.add(Flatten())\n",
    "    model.add(Dense(16, activation=\"sigmoid\"))\n",
    "    model.add(Dropout(0.25))\n",
    "    model.add(Dense(4, activation=\"softmax\"))\n",
    "\n",
    "    model.compile(\n",
    "        optimizer=\"adam\",\n",
    "        loss=\"categorical_crossentropy\",\n",
    "        metrics=[\"accuracy\", \"categorical_crossentropy\", f1_m, precision_m, recall_m])\n",
    "    return model"
   ]
  },
  {
   "cell_type": "code",
   "execution_count": null,
   "id": "05576ad4",
   "metadata": {},
   "outputs": [],
   "source": [
    "build_model_3(kt.HyperParameters())"
   ]
  },
  {
   "cell_type": "code",
   "execution_count": null,
   "id": "091179ce",
   "metadata": {},
   "outputs": [],
   "source": [
    "tuner = kt.RandomSearch(\n",
    "    hypermodel=build_model_3,\n",
    "    objective=Objective(\"val_recall_m\", direction=\"max\"),\n",
    "    max_trials=25,\n",
    "    executions_per_trial=2,\n",
    "    overwrite=True,\n",
    "    directory=\"my_dir\",\n",
    "    project_name=\"x-ray-test_2\"\n",
    ")"
   ]
  },
  {
   "cell_type": "markdown",
   "id": "9ee2b238",
   "metadata": {},
   "source": [
    "Search funktion für Georg. Hier Kommentare raus nehmen"
   ]
  },
  {
   "cell_type": "code",
   "execution_count": null,
   "id": "5be7deba",
   "metadata": {},
   "outputs": [],
   "source": [
    "# tuner.search(x_train, y_train, \n",
    "#              epochs=4, \n",
    "#              batch_size=256,\n",
    "#              validation_data=(x_val, y_val), \n",
    "#              verbose=1\n",
    "#         )"
   ]
  },
  {
   "cell_type": "markdown",
   "id": "9a9705fd",
   "metadata": {},
   "source": [
    "# Tuner Output"
   ]
  },
  {
   "cell_type": "code",
   "execution_count": null,
   "id": "0fe26131",
   "metadata": {},
   "outputs": [],
   "source": [
    "tuner.results_summary()"
   ]
  },
  {
   "cell_type": "code",
   "execution_count": null,
   "id": "07f04b00",
   "metadata": {},
   "outputs": [],
   "source": [
    "# Get the top 3 models.\n",
    "models = tuner.get_best_models(num_models=3)\n",
    "best_model = models[0]\n",
    "second_model = models[1]\n",
    "third_model = models[2]\n",
    "# Build the model.\n",
    "# Needed for `Sequential` without specified `input_shape`.\n",
    "best_model.build(input_shape=(None, 256, 256))\n",
    "best_model.summary()\n",
    "second_model.build(input_shape=(None, 256, 256))\n",
    "second_model.summary()\n",
    "third_model.build(input_shape=(None, 256, 256))\n",
    "third_model.summary()"
   ]
  }
 ],
 "metadata": {
  "kernelspec": {
   "display_name": "Python 3 (ipykernel)",
   "language": "python",
   "name": "python3"
  },
  "language_info": {
   "codemirror_mode": {
    "name": "ipython",
    "version": 3
   },
   "file_extension": ".py",
   "mimetype": "text/x-python",
   "name": "python",
   "nbconvert_exporter": "python",
   "pygments_lexer": "ipython3",
   "version": "3.8.12"
  }
 },
 "nbformat": 4,
 "nbformat_minor": 5
}
