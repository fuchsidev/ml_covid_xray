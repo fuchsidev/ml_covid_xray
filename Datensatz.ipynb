{
 "cells": [
  {
   "cell_type": "markdown",
   "id": "7ecba387",
   "metadata": {},
   "source": [
    "# Lung X-Ray Database learning - ANN Classification\n",
    "\n",
    "## Based on two sources\n",
    "(1) https://www.kaggle.com/tawsifurrahman/covid19-radiography-database  \n",
    "(2) https://www.kaggle.com/paultimothymooney/chest-xray-pneumonia\n",
    "\n",
    "### (1) Chest x-ray (256x256) images of:   \n",
    "    - 3616 covid positive patients  \n",
    "    - 10.192 \"normal\" (healthy) patients   \n",
    "    - 6012 Lung Opacity (Non-COVID lung infection)  \n",
    "    - 1345 Viral Pneumonia  \n",
    "### (2) Chest x-ray images (varying sizes in groups of test/train/validation) of:  \n",
    "    - 234 + 1341 + 8 \"normal\" patients  \n",
    "    - 390 + 3875 + 8 (bacterial/viral) pneumonia patients  \n",
    "    \n",
    "(1) 1341 normal patient images have been taken from source (2) (see readme.md.txt for detailed sources of images)"
   ]
  },
  {
   "cell_type": "markdown",
   "id": "32aa8364",
   "metadata": {},
   "source": [
    "# 1. Data preparation\n",
    "\n",
    "Both datasets shall be used! 4 Problems exist when attempting to use both datasets.  \n",
    "\n",
    "### Problem 1:\n",
    "Group 3 (non-covid) of set (1) does not specify the cause of the infection, whereas set (2) distinguishes between viral and bacterial pneumonia (lung inflamation).  \n",
    "Two possible versions:  \n",
    "1. Viral from sets (1) and (2) shall be merged. Bacterial (2) and non-covid (1) shall be merged.  \n",
    "1. Viral from sets (1) and (2) shall be merged, all bacterial samples (2) will be separated into its own group. non-covid (1) shall be omitted  \n",
    "\n",
    "As I would prefer to work with known variables, **I will for no go with variant 2**.  \n",
    "\n",
    "The four categories will therefore be:\n",
    "1. healthy/normal\n",
    "1. bacterial pneumonia\n",
    "1. viral pneumonia\n",
    "1. COVID-19\n",
    "\n",
    "###  Problem 2:\n",
    "Image sizes differ between data sets.  \n",
    "Set (1) mostly uses normalised sizes of 256x256. Set (2) uses larger, varying sizes.  \n",
    "\n",
    "**Set (2) and (1) shall be normalised to fit 256x256.**  \n",
    "\n",
    "### Problem 3:\n",
    "Only set (2) is split up into training, testing and validation data.  \n",
    "\n",
    "After resizing and merging of the two datasets, they will be split up into three groups:  \n",
    "1. training data (~80% of total)  \n",
    "1. test data (~10% of total)    \n",
    "1. validation data (~10% of total)  \n",
    "\n",
    "Whether the total amount of data per category will be balanced will be assessed once the final amount of resized and merged data in each category do exist.\n",
    "\n",
    "### Problem 4:\n",
    "Volume of data is possibly too high.  \n",
    "\n",
    "Images are grayscale 256x256 images => Each image produces 65.536 pieces of input data.  \n",
    "Since this project is to be finished in effectively less than 14 days, working with that many inputs creates tremendous load for the network.\n",
    "\n",
    "**Idea: creating or re-training an autoencoder to reduce the amount of input data to three figures per image if possible. Effectively reducing data load by a factor of ~80.**  "
   ]
  },
  {
   "cell_type": "markdown",
   "id": "f0ffd22f",
   "metadata": {},
   "source": [
    "### WARNING!\n",
    "All files from the two sources need to be located in a specific folder for the following code to work!  \n",
    "There needs to be a \"data\\\" folder where this file is located. The content of the two sources needs to be extracted directly into this \"data\\\" folder!    \n",
    "\n",
    "The file structure should be:  \n",
    "- \"data\\COVID-19_Radiography_Dataset\" - for dataset (1)  \n",
    "- \"data\\chest-xray\\\" - for dataset (2)"
   ]
  },
  {
   "cell_type": "markdown",
   "id": "e64bc5c3",
   "metadata": {},
   "source": [
    "## Resizing images\n",
    "Resizing images in set (2)  \n",
    "Data from original folders (train, test, val) have been manually consolidated into category folders \"NORMAL\" and \"PNEUMONIA\" in main dataset folder."
   ]
  },
  {
   "cell_type": "code",
   "execution_count": 1,
   "id": "c65aa263",
   "metadata": {},
   "outputs": [],
   "source": [
    "from PIL import Image\n",
    "import os\n",
    "import shutil"
   ]
  },
  {
   "cell_type": "code",
   "execution_count": 2,
   "id": "9327df5b",
   "metadata": {},
   "outputs": [],
   "source": [
    "## resizing images of set(2)\n",
    "\n",
    "# save input and output paths for resizing\n",
    "input_set2_normal = os.path.join(\"data\", \"chest_xray\", \"NORMAL\")\n",
    "input_set2_pneu = os.path.join(\"data\", \"chest_xray\", \"PNEUMONIA\")\n",
    "output = os.path.join(\"data\", \"chest_xray\", \"RESIZE\") # Working folder for resizing\n",
    "\n",
    "# create RESIZE folder if it doesn't exist\n",
    "if not \"RESIZE\" in os.listdir(os.path.join(\"data\", \"chest_xray\")):\n",
    "    os.mkdir(output)\n",
    "\n",
    "# method to resize all jpeg images in folder \"path\"\n",
    "# stores resulting png-files in folder \"dir_out\" in target destination \"path_out\"\n",
    "def resize_jpg(path, path_out, dir_out):\n",
    "    # create output folder in output destination if not already there\n",
    "    if not dir_out in os.listdir(path_out):\n",
    "        os.mkdir(os.path.join(path_out,dir_out))\n",
    "    # save list of all items in source folder into \"dirs\"\n",
    "    dirs = os.listdir(path)\n",
    "\n",
    "    # iterates over all images in folder. opens image, resizes and saves in target destination as png\n",
    "    for item in dirs:\n",
    "        im = Image.open(os.path.join(path, item))\n",
    "        imResize = im.resize((256,256), Image.ANTIALIAS)\n",
    "        imResize.save(os.path.join(path_out,dir_out, item[:-5] + '_re.png'), 'PNG', quality=90)\n"
   ]
  },
  {
   "cell_type": "markdown",
   "id": "5c75ac3a",
   "metadata": {},
   "source": [
    "Call resize for folders in dataset (2)"
   ]
  },
  {
   "cell_type": "code",
   "execution_count": 3,
   "id": "b5832ea0",
   "metadata": {},
   "outputs": [],
   "source": [
    "# not executed as normal set is mostly duplicates of data already included in set (1)\n",
    "\n",
    "#resize_jpg(input_set2_normal, output, \"NORMAL\")"
   ]
  },
  {
   "cell_type": "code",
   "execution_count": 4,
   "id": "725add8c",
   "metadata": {},
   "outputs": [],
   "source": [
    "resize_jpg(input_set2_pneu, output, \"PNEUMONIA\")"
   ]
  },
  {
   "cell_type": "markdown",
   "id": "4e19e740",
   "metadata": {},
   "source": [
    "Files in PNEUMONIA folder shall be split up into bacterial and viral data depending on filename"
   ]
  },
  {
   "cell_type": "code",
   "execution_count": 5,
   "id": "28e5d4e9",
   "metadata": {
    "scrolled": true
   },
   "outputs": [],
   "source": [
    "# separate files in PNEUMONIA folder by filename containing \"bacteria\" or \"virus\"\n",
    "# save list of all images in output\\\"PNEUMONIA\"\n",
    "dirs = os.path.join(output, \"PNEUMONIA\")\n",
    "\n",
    "# create destination folders if needed\n",
    "if not \"PNEUMONIA_BAC\" in os.listdir(dirs):\n",
    "            os.mkdir(os.path.join(output, \"PNEUMONIA_BAC\"))\n",
    "if not \"PNEUMONIA_VIR\" in os.listdir(dirs):\n",
    "            os.mkdir(os.path.join(output, \"PNEUMONIA_VIR\"))\n",
    "\n",
    "# iterate over all images in list. moves files into new subfolders depending on name\n",
    "for item in os.listdir(dirs):\n",
    "    # move files with \"bacteria\" in file name\n",
    "    if \"bacteria\" in item:\n",
    "        os.rename(os.path.join(dirs, item), os.path.join(output, \"PNEUMONIA_BAC\", item))\n",
    "    #move files with \"virus\" in file name\n",
    "    elif \"virus\" in item:\n",
    "        os.rename(os.path.join(dirs, item), os.path.join(output, \"PNEUMONIA_VIR\", item))\n",
    "        \n",
    "# checking whether \"PNEUMONIA\" folder is empty or not\n",
    "if len(os.listdir(dirs)) == 0:\n",
    "    # removing \"PNEUMONIA\" folder\n",
    "    os.rmdir(dirs)\n",
    "else:\n",
    "    # messaging saying folder not empty\n",
    "    print(\"Folder is not empty\")"
   ]
  },
  {
   "cell_type": "markdown",
   "id": "98ecaf0c",
   "metadata": {},
   "source": [
    "Not all data in set (1) has target dimensions of 256 by 256!  \n",
    "\n",
    "Resizing images in set (1)."
   ]
  },
  {
   "cell_type": "code",
   "execution_count": 6,
   "id": "8806dfa9",
   "metadata": {},
   "outputs": [],
   "source": [
    "# save input and output paths for resizing\n",
    "output_path_set1 = os.path.join(\"data\", \"COVID-19_Radiography_Dataset\", \"RESIZE\")  # Working folder for resizing\n",
    "# create RESIZE folder if it doesn't exist\n",
    "if not \"RESIZE\" in os.listdir(os.path.join(\"data\", \"COVID-19_Radiography_Dataset\")):\n",
    "    os.mkdir(output_path_set1)\n",
    "\n",
    "input_set1_normal = os.path.join(\"data\", \"COVID-19_Radiography_Dataset\", \"Normal\")\n",
    "input_set1_virpneu = os.path.join(\"data\", \"COVID-19_Radiography_Dataset\", \"Viral Pneumonia\")\n",
    "input_set1_covid = os.path.join(\"data\", \"COVID-19_Radiography_Dataset\", \"COVID\")\n",
    "\n",
    "# method to resize all png images in folder \"path\"\n",
    "# stores resulting png-files in folder \"dir_out\" in target destination \"path_out\" \n",
    "def resize_png(path, path_out, dir_out):\n",
    "    # create output folder in output destination if not already there\n",
    "    if not dir_out in os.listdir(path_out):\n",
    "        os.mkdir(os.path.join(path_out,dir_out))\n",
    "    # save list of all items in source folder into \"dirs\"\n",
    "    dirs = os.listdir(path)\n",
    "    \n",
    "    # iterates over all images in folder. opens image, resizes and saves in target destination as png\n",
    "    for item in dirs:\n",
    "        im = Image.open(os.path.join(path, item))\n",
    "        imResize = im.resize((256,256), Image.ANTIALIAS)\n",
    "        imResize.save(os.path.join(path_out,dir_out, item[:-4] + '_re.png'), 'PNG', quality=90)"
   ]
  },
  {
   "cell_type": "markdown",
   "id": "f9b80bd2",
   "metadata": {},
   "source": [
    "Call resize function for all folders in dataset (2)  \n",
    "Each function call will take a few minutes here! Don't worry, this is working as intended!"
   ]
  },
  {
   "cell_type": "code",
   "execution_count": 7,
   "id": "75f6431c",
   "metadata": {},
   "outputs": [],
   "source": [
    "resize_png(input_set1_normal,output_path_set1,\"Normal\")"
   ]
  },
  {
   "cell_type": "code",
   "execution_count": 8,
   "id": "6eeca3b1",
   "metadata": {},
   "outputs": [],
   "source": [
    "resize_png(input_set1_virpneu,output_path_set1,\"Viral Pneumonia\")"
   ]
  },
  {
   "cell_type": "code",
   "execution_count": 9,
   "id": "8af6cf70",
   "metadata": {},
   "outputs": [],
   "source": [
    "resize_png(input_set1_covid,output_path_set1,\"COVID\")"
   ]
  },
  {
   "cell_type": "markdown",
   "id": "db2d27c0",
   "metadata": {},
   "source": [
    "## Merging datasets"
   ]
  },
  {
   "cell_type": "code",
   "execution_count": 10,
   "id": "4ca31b7c",
   "metadata": {},
   "outputs": [],
   "source": [
    "# setting up source and destination paths\n",
    "path_dest = os.path.join(\"data\", \"DATASET\") # Working folder for merging and splitting \n",
    "path_set1 = os.path.join(\"data\", \"COVID-19_Radiography_Dataset\", \"RESIZE\")\n",
    "path_set2 = os.path.join(\"data\", \"chest_xray\", \"RESIZE\")\n",
    "\n",
    "dest_normal = os.path.join(path_dest, \"HEALTHY\")\n",
    "dest_bacpneu = os.path.join(path_dest, \"BACTERIAL_PNEUMONIA\")\n",
    "dest_virpneu = os.path.join(path_dest,\"VIRAL_PNEUMONIA\")\n",
    "dest_covid = os.path.join(path_dest, \"COVID19\")\n",
    "\n",
    "src_set1_normal = os.path.join(path_set1, \"Normal\")\n",
    "src_set1_virpneu = os.path.join(path_set1, \"Viral Pneumonia\")\n",
    "src_set1_covid = os.path.join(path_set1, \"COVID\")\n",
    "\n",
    "#src_set2_normal = os.path.join(path_set2, \"NORMAL\") #won't be moved due to set 1 including all but 242 images in here\n",
    "src_set2_bacpneu = os.path.join(path_set2, \"PNEUMONIA_BAC\")\n",
    "src_set2_virpneu = os.path.join(path_set2, \"PNEUMONIA_VIR\")"
   ]
  },
  {
   "cell_type": "code",
   "execution_count": 11,
   "id": "3e820823",
   "metadata": {},
   "outputs": [],
   "source": [
    "# Creating destination folders\n",
    "if not \"DATASET\" in os.listdir(\"data\"):\n",
    "    os.mkdir(path_dest)\n",
    "if not \"HEALTHY\" in os.listdir(path_dest):\n",
    "    os.mkdir(dest_normal)\n",
    "if not \"BACTERIAL_PNEUMONIA\" in os.listdir(path_dest):\n",
    "    os.mkdir(dest_bacpneu)\n",
    "if not \"VIRAL_PNEUMONIA\" in os.listdir(path_dest):\n",
    "    os.mkdir(dest_virpneu)\n",
    "if not \"COVID19\" in os.listdir(path_dest):\n",
    "    os.mkdir(dest_covid)"
   ]
  },
  {
   "cell_type": "markdown",
   "id": "cee6aa9c",
   "metadata": {},
   "source": [
    "Moving data from all source folders defined above into destination folders as unsplit data"
   ]
  },
  {
   "cell_type": "code",
   "execution_count": 12,
   "id": "0f5950e1",
   "metadata": {},
   "outputs": [],
   "source": [
    "# Moving data from source folders to destination folders to be split up in the next step\n",
    "\n",
    "# NORMAL dataset\n",
    "for file in os.listdir(src_set1_normal):\n",
    "    os.rename(os.path.join(src_set1_normal, file), os.path.join(dest_normal, file))\n",
    "\n",
    "# Bacterial pneumonia dataset\n",
    "for file in os.listdir(src_set2_bacpneu):\n",
    "    os.rename(os.path.join(src_set2_bacpneu, file), os.path.join(dest_bacpneu, file))\n",
    "\n",
    "# viral pneumonia dataset\n",
    "for file in os.listdir(src_set1_virpneu):\n",
    "    os.rename(os.path.join(src_set1_virpneu, file), os.path.join(dest_virpneu, file))\n",
    "for file in os.listdir(src_set2_virpneu):\n",
    "    os.rename(os.path.join(src_set2_virpneu, file), os.path.join(dest_virpneu, file))\n",
    "\n",
    "# covid19 dataset\n",
    "for file in os.listdir(src_set1_covid):\n",
    "    os.rename(os.path.join(src_set1_covid, file), os.path.join(dest_covid, file))"
   ]
  },
  {
   "cell_type": "markdown",
   "id": "0c2735ce",
   "metadata": {},
   "source": [
    "Delete working folders for resizing"
   ]
  },
  {
   "cell_type": "code",
   "execution_count": 13,
   "id": "8a8d00ab",
   "metadata": {},
   "outputs": [],
   "source": [
    "# Delete working folders for resizing\n",
    "\n",
    "# Delete RESIZE folder and subfolders in dataset 2\n",
    "# Delete all subfolders if empty\n",
    "for dirs in os.listdir(output):\n",
    "    # checking whether subfolder is empty or not\n",
    "    if len(os.listdir(os.path.join(output,dirs))) == 0:\n",
    "        # removing subfolder\n",
    "        os.rmdir(os.path.join(output,dirs))\n",
    "    else:\n",
    "        # messaging saying folder not empty\n",
    "        print(output+dirs+\" is not empty\")\n",
    "# Delete RESIZE folder if empty\n",
    "if len(os.listdir(output)) == 0:\n",
    "    os.rmdir(output)\n",
    "else:\n",
    "    print(output+\" is not empty\")"
   ]
  },
  {
   "cell_type": "code",
   "execution_count": 14,
   "id": "fa6f45f6",
   "metadata": {},
   "outputs": [],
   "source": [
    "# Delete RESIZE folder and subfolders in dataset 1\n",
    "# Delete all subfolders if empty\n",
    "for dirs in os.listdir(output_path_set1):\n",
    "    # checking whether subfolder is empty or not\n",
    "    if len(os.listdir(os.path.join(output_path_set1,dirs))) == 0:\n",
    "        # removing subfolder\n",
    "        os.rmdir(os.path.join(output_path_set1,dirs))\n",
    "    else:\n",
    "        # messaging saying folder not empty\n",
    "        print(output_path_set1+dirs+\" is not empty\")\n",
    "# Delete RESIZE folder if empty\n",
    "if len(os.listdir(output_path_set1)) == 0:\n",
    "    os.rmdir(output_path_set1)\n",
    "else:\n",
    "    print(output_path_set1+\" is not empty\")"
   ]
  },
  {
   "cell_type": "markdown",
   "id": "a6811d93",
   "metadata": {},
   "source": [
    "Count elements in new working folder. Correct values for comparison:\n",
    "- Healthy images: 10192\n",
    "- Bacterial Pneumonia images: 2780\n",
    "- Viral Pneumonia images: 2838\n",
    "- COVID19 images: 3616\n"
   ]
  },
  {
   "cell_type": "code",
   "execution_count": 15,
   "id": "1cf7eaf5",
   "metadata": {},
   "outputs": [
    {
     "name": "stdout",
     "output_type": "stream",
     "text": [
      "Healthy images: 10192\n",
      "Bacterial Pneumonia images: 2780\n",
      "Viral Pneumonia images: 2838\n",
      "COVID19 images: 3616\n"
     ]
    }
   ],
   "source": [
    "# Count elements in folders\n",
    "n_count = 0\n",
    "for item in os.listdir(dest_normal):\n",
    "    n_count +=1\n",
    "\n",
    "print(\"Healthy images: \" + str(n_count))\n",
    "\n",
    "b_count = 0\n",
    "for item in os.listdir(dest_bacpneu):\n",
    "    b_count +=1\n",
    "\n",
    "print(\"Bacterial Pneumonia images: \" + str(b_count))\n",
    "\n",
    "v_count = 0\n",
    "for item in os.listdir(dest_virpneu):\n",
    "    v_count +=1\n",
    "\n",
    "print(\"Viral Pneumonia images: \" + str(v_count))\n",
    "\n",
    "c_count = 0\n",
    "for item in os.listdir(dest_covid):\n",
    "    c_count +=1\n",
    "\n",
    "print(\"COVID19 images: \" + str(c_count))\n",
    "\n",
    "## Calculation of possible splits. Not necessary for further code.\n",
    "# print()\n",
    "# print(\"Healthy splits: train(\" + str(int(n_count*.8)) + \"), test(\" + \n",
    "#                                      str(int(n_count*.15)) + \"), val(\" + str(int(n_count*.05)) + \")\")\n",
    "# print(\"Bacterial splits: train(\" + str(int(b_count*.8)) + \"), test(\" + \n",
    "#                                      str(int(b_count*.15)) + \"), val(\" + str(int(b_count*.05)) + \")\")\n",
    "# print(\"Viral splits: train(\" + str(int(v_count*.8)) + \"), test(\" + \n",
    "#                                      str(int(v_count*.15)) + \"), val(\" + str(int(v_count*.05)) + \")\")\n",
    "# print(\"COVID splits: train(\" + str(int(c_count*.8)) + \"), test(\" + \n",
    "#                                      str(int(c_count*.15)) + \"), val(\" + str(int(c_count*.05)) + \")\")"
   ]
  },
  {
   "cell_type": "markdown",
   "id": "762caf02",
   "metadata": {},
   "source": [
    "### Create Datasplits based on percentages set out at the start\n",
    "training (80%), validation (10%), testing (10%)\n"
   ]
  },
  {
   "cell_type": "code",
   "execution_count": 16,
   "id": "6efff54b",
   "metadata": {},
   "outputs": [],
   "source": [
    "from sklearn.model_selection import train_test_split\n",
    "import random\n",
    "\n",
    "# creates split values that create 80/10/10 in two splits\n",
    "val11 = 0.9\n",
    "val12 = 0.1\n",
    "val21 = 0.89\n",
    "val22 = 0.11"
   ]
  },
  {
   "cell_type": "markdown",
   "id": "f21642f8",
   "metadata": {},
   "source": [
    "Creating lists with filenames to move into split folders later.  \n",
    "All code works the same as block one, so only one will be commented.  \n",
    "\n",
    "### Split Normal Dataset"
   ]
  },
  {
   "cell_type": "code",
   "execution_count": 17,
   "id": "9c39fa80",
   "metadata": {},
   "outputs": [
    {
     "name": "stdout",
     "output_type": "stream",
     "text": [
      "NORMAL\n",
      "train:8163\n",
      "test:1009\n",
      "val:1020\n"
     ]
    }
   ],
   "source": [
    "# NORMAL Dataset\n",
    "# read all data from Dataset folder\n",
    "all_normal = os.listdir(dest_normal)\n",
    "\n",
    "# shuffle data in list to randomise output\n",
    "random.shuffle(all_normal)\n",
    "\n",
    "# creates lists via train_test_split. data is split twice to create splits for training, testing and validation\n",
    "# could have been done more cleverly, but this code will do\n",
    "rest_normal, val_normal = train_test_split(all_normal, train_size=val11, test_size=val12)\n",
    "train_normal, test_normal = train_test_split(rest_normal, train_size=val21, test_size=val22)\n",
    "\n",
    "# output final dataset sizes\n",
    "print(\"NORMAL\")\n",
    "print(\"train:\" + str(len(train_normal)))\n",
    "print(\"test:\" + str(len(test_normal)))\n",
    "print(\"val:\" + str(len(val_normal)))"
   ]
  },
  {
   "cell_type": "markdown",
   "id": "6206c10a",
   "metadata": {},
   "source": [
    "### Split Bacterial Pneumonia Dataset"
   ]
  },
  {
   "cell_type": "code",
   "execution_count": 18,
   "id": "07690afb",
   "metadata": {},
   "outputs": [
    {
     "name": "stdout",
     "output_type": "stream",
     "text": [
      "PNEUMONIA_BAC\n",
      "train:2226\n",
      "test:276\n",
      "val:278\n"
     ]
    }
   ],
   "source": [
    "# Bacterial Pneumonia\n",
    "\n",
    "all_bacpneu = os.listdir(dest_bacpneu)\n",
    "random.shuffle(all_bacpneu)\n",
    "\n",
    "rest_bacpneu, val_bacpneu = train_test_split(all_bacpneu, train_size=val11, test_size=val12)\n",
    "train_bacpneu, test_bacpneu = train_test_split(rest_bacpneu, train_size=val21, test_size=val22)\n",
    "\n",
    "print(\"PNEUMONIA_BAC\")\n",
    "print(\"train:\" + str(len(train_bacpneu)))\n",
    "print(\"test:\" + str(len(test_bacpneu)))\n",
    "print(\"val:\" + str(len(val_bacpneu)))"
   ]
  },
  {
   "cell_type": "markdown",
   "id": "2ddff2a8",
   "metadata": {},
   "source": [
    "### Split Viral Pneumonia Dataset"
   ]
  },
  {
   "cell_type": "code",
   "execution_count": 19,
   "id": "2fefb22f",
   "metadata": {},
   "outputs": [
    {
     "name": "stdout",
     "output_type": "stream",
     "text": [
      "PNEUMONIA_VIR\n",
      "train:2273\n",
      "test:281\n",
      "val:284\n"
     ]
    }
   ],
   "source": [
    "# Viral Pneumonia\n",
    "all_virpneu = os.listdir(dest_virpneu)\n",
    "random.shuffle(all_virpneu)\n",
    "\n",
    "rest_virpneu, val_virpneu = train_test_split(all_virpneu, train_size=val11, test_size=val12)\n",
    "train_virpneu, test_virpneu = train_test_split(rest_virpneu, train_size=val21, test_size=val22)\n",
    "\n",
    "print(\"PNEUMONIA_VIR\")\n",
    "print(\"train:\" + str(len(train_virpneu)))\n",
    "print(\"test:\" + str(len(test_virpneu)))\n",
    "print(\"val:\" + str(len(val_virpneu)))"
   ]
  },
  {
   "cell_type": "markdown",
   "id": "69a554c2",
   "metadata": {},
   "source": [
    "### Split COVID Dataset"
   ]
  },
  {
   "cell_type": "code",
   "execution_count": 20,
   "id": "607aedc3",
   "metadata": {},
   "outputs": [
    {
     "name": "stdout",
     "output_type": "stream",
     "text": [
      "COVID\n",
      "train:2896\n",
      "test:358\n",
      "val:362\n"
     ]
    }
   ],
   "source": [
    "# COVID\n",
    "all_covid = os.listdir(dest_covid)\n",
    "random.shuffle(all_covid)\n",
    "\n",
    "rest_covid, val_covid = train_test_split(all_covid, train_size=val11, test_size=val12)\n",
    "train_covid, test_covid = train_test_split(rest_covid, train_size=val21, test_size=val22)\n",
    "\n",
    "print(\"COVID\")\n",
    "print(\"train:\" + str(len(train_covid)))\n",
    "print(\"test:\" + str(len(test_covid)))\n",
    "print(\"val:\" + str(len(val_covid)))"
   ]
  },
  {
   "cell_type": "code",
   "execution_count": 21,
   "id": "489bc9f2",
   "metadata": {},
   "outputs": [],
   "source": [
    "# method to split all folders into datasets\n",
    "# accepts three lists of filenames (train, test, val) of one dataset, a path \"source\" and a string \"dest_str\"\n",
    "# files from lists will be moved from source folder to data\\\"settype\"\\\"dest_str\"\n",
    "def move_splits(train, test, val, source, dest_str):\n",
    "#     if not \"_SPLITS\" in os.listdir(path_dest):\n",
    "#         os.mkdir(os.path.join(path_dest,\"_SPLITS\"))\n",
    "    # create train/test/val folders if not present\n",
    "    if not \"train\" in os.listdir(\"data\"):\n",
    "        os.mkdir(os.path.join(\"data\",\"train\"))\n",
    "    \n",
    "    if not \"test\" in os.listdir(\"data\"):\n",
    "        os.mkdir(os.path.join(\"data\",\"test\"))\n",
    "    \n",
    "    if not \"val\" in os.listdir(\"data\"):\n",
    "        os.mkdir(os.path.join(\"data\",\"val\"))\n",
    "            \n",
    "    # save all destination paths for training/testing/validation\n",
    "    train_dir = os.path.join(\"data\",\"train\")\n",
    "    test_dir = os.path.join(\"data\",\"test\")\n",
    "    val_dir = os.path.join(\"data\",\"val\")\n",
    "    \n",
    "    \n",
    "    # training set\n",
    "    # iterate through first list. create \"dest_str\" folder in subfolder if not present, move files from list to new folder.\n",
    "    for item in train:\n",
    "        if not dest_str in os.listdir(train_dir):\n",
    "            os.mkdir(os.path.join(train_dir,dest_str))\n",
    "        os.rename(os.path.join(source, item), os.path.join(train_dir, dest_str, item))\n",
    "\n",
    "    # test set\n",
    "    # same logic as training\n",
    "    for item in test:\n",
    "        if not dest_str in os.listdir(test_dir):\n",
    "            os.mkdir(os.path.join(test_dir,dest_str))\n",
    "        os.rename(os.path.join(source, item), os.path.join(test_dir, dest_str, item))\n",
    "\n",
    "    # validation set\n",
    "    # same logic as training\n",
    "    for item in val:\n",
    "        if not dest_str in os.listdir(val_dir):\n",
    "            os.mkdir(os.path.join(val_dir,dest_str))\n",
    "        os.rename(os.path.join(source, item), os.path.join(val_dir, dest_str, item))"
   ]
  },
  {
   "cell_type": "code",
   "execution_count": 22,
   "id": "c827eda7",
   "metadata": {},
   "outputs": [],
   "source": [
    "move_splits(train_normal, test_normal, val_normal, dest_normal, \"HEALTHY\")"
   ]
  },
  {
   "cell_type": "code",
   "execution_count": 23,
   "id": "f098a617",
   "metadata": {},
   "outputs": [],
   "source": [
    "move_splits(train_bacpneu, test_bacpneu, val_bacpneu, dest_bacpneu, \"PNEUMONIA_BAC\")"
   ]
  },
  {
   "cell_type": "code",
   "execution_count": 24,
   "id": "3bf7ec96",
   "metadata": {},
   "outputs": [],
   "source": [
    "move_splits(train_virpneu, test_virpneu, val_virpneu, dest_virpneu, \"PNEUMONIA_VIR\")"
   ]
  },
  {
   "cell_type": "code",
   "execution_count": 25,
   "id": "8e3fd75d",
   "metadata": {},
   "outputs": [],
   "source": [
    "move_splits(train_covid, test_covid, val_covid, dest_covid, \"COVID\")"
   ]
  },
  {
   "cell_type": "markdown",
   "id": "4012f696",
   "metadata": {},
   "source": [
    "Delete \"DATASET\" working folder and it's subfolders"
   ]
  },
  {
   "cell_type": "code",
   "execution_count": 26,
   "id": "bc2d076c",
   "metadata": {},
   "outputs": [],
   "source": [
    "# Delete working folder \"Dataset\". No longer needed.\n",
    "# Logic works the same as before. comments omited\n",
    "for dirs in os.listdir(path_dest):\n",
    "    if len(os.listdir(os.path.join(path_dest,dirs))) == 0:\n",
    "        os.rmdir(os.path.join(path_dest,dirs))\n",
    "    else:\n",
    "        print(path_dest+dirs+\" is not empty\")\n",
    "if len(os.listdir(path_dest)) == 0:\n",
    "    os.rmdir(path_dest)\n",
    "else:\n",
    "    print(path_dest+\" is not empty\")"
   ]
  },
  {
   "cell_type": "markdown",
   "id": "1eb2c9b3",
   "metadata": {},
   "source": [
    "### Datasets are now split up correctly\n",
    "The actual dataset will NOT be the exact same every time, as the images are being shuffled before splitting them up. The number of samples is the same, the exact samples are not!  \n",
    "Datasets will be used in this exact file structure during neural network training and validation."
   ]
  },
  {
   "cell_type": "markdown",
   "id": "92128204",
   "metadata": {},
   "source": [
    "### Visualisation of datasset"
   ]
  },
  {
   "cell_type": "code",
   "execution_count": 27,
   "id": "d45adc22",
   "metadata": {
    "scrolled": true
   },
   "outputs": [
    {
     "data": {
      "image/png": "[encoded data removed]",
      "text/plain": [
       "<PIL.Image.Image image mode=L size=1024x300 at 0x1C478D39970>"
      ]
     },
     "metadata": {},
     "output_type": "display_data"
    }
   ],
   "source": [
    "from PIL import Image\n",
    "from PIL import ImageFont, ImageDraw, ImageOps\n",
    "from random import randrange\n",
    "\n",
    "def plot_samples(sample_files):\n",
    "    x, y = 0, 0\n",
    "    font_size = 16\n",
    "    # Size of individual images\n",
    "    img_size = 256\n",
    "    # Final Image size\n",
    "    width = img_size*4\n",
    "    height = 300\n",
    "    \n",
    "    img = Image.new(mode=\"L\", size=(width, height), color=0)\n",
    "    font = ImageFont.truetype(\"arial.ttf\", font_size)\n",
    "    draw = ImageDraw.Draw(img)\n",
    "    \n",
    "    # Iterate samples\n",
    "    for file in sample_files:\n",
    "        # Get image file as PIL Object\n",
    "        copy_img = Image.open(f\"{base_path}{file[0]}/{file[1]}\")\n",
    "        # Paste into final img\n",
    "        img.paste(copy_img, (x, y))\n",
    "        # Calculate size of the label\n",
    "        word_pxl_size = ((len(file[0][:-4]))*font_size)/2\n",
    "        # Calculate position of the text label relative to the image (aka how to center a div)\n",
    "        text_position = x + img_size/2 - word_pxl_size\n",
    "        # Actually draw the text\n",
    "        draw.text((text_position, 270), file[0], fill='white', font=font)\n",
    "        # Increase x coordinate before pasting new image\n",
    "        x += img_size\n",
    "    \n",
    "    # Display image in jupyter\n",
    "    display(img)\n",
    "    # Save image file\n",
    "    img.save('lung_sample.png')\n",
    "\n",
    "sample_files = []\n",
    "# Read folders from sample_data (COVID, HEALTHY, PNEUMONIA_BAC, PNEUMONIA_VIRAL)\n",
    "base_path = \"data/test/\"\n",
    "for img_category in os.listdir(base_path):\n",
    "    # Get images from folder\n",
    "    image_files = os.listdir(f\"{base_path}{img_category}/\")\n",
    "    # Select random image file\n",
    "    image_file = image_files[randrange(len(image_files))]\n",
    "    # Save image path and category\n",
    "    sample_files.append([img_category, image_file])\n",
    "\n",
    "# Generate Sample Images from Data Sample\n",
    "plot_samples(sample_files)\n"
   ]
  }
 ],
 "metadata": {
  "kernelspec": {
   "display_name": "Python 3 (ipykernel)",
   "language": "python",
   "name": "python3"
  },
  "language_info": {
   "codemirror_mode": {
    "name": "ipython",
    "version": 3
   },
   "file_extension": ".py",
   "mimetype": "text/x-python",
   "name": "python",
   "nbconvert_exporter": "python",
   "pygments_lexer": "ipython3",
   "version": "3.8.12"
  }
 },
 "nbformat": 4,
 "nbformat_minor": 5
}
