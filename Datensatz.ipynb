{
 "cells": [
  {
   "cell_type": "markdown",
   "id": "6b475cb3",
   "metadata": {},
   "source": [
    "# Lung X-Ray Database learning - ANN Classification\n",
    "\n",
    "## Based on two sources\n",
    "(1) https://www.kaggle.com/tawsifurrahman/covid19-radiography-database  \n",
    "(2) https://www.kaggle.com/paultimothymooney/chest-xray-pneumonia\n",
    "\n",
    "### (1) Chest x-ray (256x256) images of:   \n",
    "    - 3616 covid positive patients  \n",
    "    - 10.192 \"normal\" (healthy) patients   \n",
    "    - 6012 Lung Opacity (Non-COVID lung infection)  \n",
    "    - 1345 Viral Pneumonia  \n",
    "### (2) Chest x-ray images (varying sizes in groups of test/train/validation) of:  \n",
    "    - 234 + 1341 + 8 \"normal\" patients  \n",
    "    - 390 + 3875 + 8 (bacterial/viral) pneumonia patients  \n",
    "    \n",
    "(1) 1341 normal patient images have been taken from source (2) (see readme.md.txt for detailed sources of images)"
   ]
  },
  {
   "cell_type": "markdown",
   "id": "f4533a45",
   "metadata": {},
   "source": [
    "# 1. Data preparation\n",
    "\n",
    "Both datasets shall be used! 4 Problems exist when attempting to use both datasets.  \n",
    "\n",
    "### Problem 1:\n",
    "Group 3 (non-covid) of set (1) does not specify the cause of the infection, whereas set (2) distinguishes between viral and bacterial pneumonia (lung inflamation).  \n",
    "Two possible versions:  \n",
    "1. Viral from sets (1) and (2) shall be merged. Bacterial (2) and non-covid (1) shall be merged.  \n",
    "1. Viral from sets (1) and (2) shall be merged, all bacterial samples (2) will be separated into its own group. non-covid (1) shall be omitted  \n",
    "\n",
    "As I would prefer to work with known variables, **I will for no go with variant 2**.  \n",
    "\n",
    "The four categories will therefore be:\n",
    "1. healthy/normal\n",
    "1. bacterial pneumonia\n",
    "1. viral pneumonia\n",
    "1. COVID-19\n",
    "\n",
    "###  Problem 2:\n",
    "Image sizes differ between data sets.  \n",
    "Set (1) mostly uses normalised sizes of 256x256. Set (2) uses larger, varying sizes.  \n",
    "\n",
    "**Set (2) and (1) shall be normalised to fit 256x256.**  \n",
    "\n",
    "### Problem 3:\n",
    "Only set (2) is split up into training, testing and validation data.  \n",
    "\n",
    "After resizing and merging of the two datasets, they will be split up into three groups:  \n",
    "1. training data (~80% of total)  \n",
    "1. test data (~15% of total)    \n",
    "1. validation data (~5% of total)  \n",
    "\n",
    "Whether the total amount of data per category will be balanced will be assessed once the final amount of resized and merged data in each category do exist.\n",
    "\n",
    "### Problem 4:\n",
    "Volume of data is possibly too high.  \n",
    "\n",
    "Images are grayscale 256x256 images => Each image produces 65.536 pieces of input data.  \n",
    "Since this project is to be finished in effectively less than 14 days, working with that many inputs creates tremendous load for the network.\n",
    "\n",
    "**Idea: creating or re-training an autoencoder to reduce the amount of input data to three figures per image if possible. Effectively reducing data load by a factor of ~80.**  "
   ]
  },
  {
   "cell_type": "markdown",
   "id": "14af4ee1",
   "metadata": {},
   "source": [
    "## Solving Problem 2\n",
    "Resizing images in set (2)  \n",
    "Data from original folders (train, test, val) have been manually consolidated into category folders \"NORMAL\" and \"PNEUMONIA\" in main dataset folder."
   ]
  },
  {
   "cell_type": "code",
   "execution_count": 1,
   "id": "114fd224",
   "metadata": {},
   "outputs": [],
   "source": [
    "from PIL import Image\n",
    "import os\n",
    "import shutil"
   ]
  },
  {
   "cell_type": "code",
   "execution_count": 4,
   "id": "ad13153b",
   "metadata": {},
   "outputs": [],
   "source": [
    "## resizing images of set(2)\n",
    "\n",
    "input_set2_normal = os.path.join(\"data\", \"chest_xray\", \"NORMAL\")\n",
    "input_set2_pneu = os.path.join(\"data\", \"chest_xray\", \"PNEUMONIA\")\n",
    "output = os.path.join(\"data\", \"chest_xray\", \"RESIZE\")\n",
    "\n",
    "#print(os.listdir(path2))\n",
    "\n",
    "def resize_jpg(path, path_out, dir_out):\n",
    "    dirs = os.listdir(path)\n",
    "    \n",
    "    if not dir_out in os.listdir(path_out):\n",
    "            os.mkdir(os.path.join(path_out,dir_out))\n",
    "\n",
    "    #print(dirs)\n",
    "    for item in dirs:\n",
    "        im = Image.open(os.path.join(path, item))\n",
    "        imResize = im.resize((256,256), Image.ANTIALIAS)\n",
    "        #print(item[:-5])\n",
    "    \n",
    "        imResize.save(os.path.join(path_out,dir_out, item[:-5] + '_re.png'), 'PNG', quality=90)\n"
   ]
  },
  {
   "cell_type": "code",
   "execution_count": 2,
   "id": "783da3f8",
   "metadata": {},
   "outputs": [],
   "source": [
    "# not executed as normal set is mostly duplicates of data already included in set (1)\n",
    "\n",
    "#resize_jpg(input_set2_normal, output, \"NORMAL\")"
   ]
  },
  {
   "cell_type": "code",
   "execution_count": 3,
   "id": "aa6a4ab4",
   "metadata": {},
   "outputs": [],
   "source": [
    "resize_jpg(input_set2_pneu, output, \"PNEUMONIA\")"
   ]
  },
  {
   "cell_type": "markdown",
   "id": "602cd4cf",
   "metadata": {},
   "source": [
    "files in PNEUMONIA Folder shall be split up into bacterial and viral data depending on filename"
   ]
  },
  {
   "cell_type": "code",
   "execution_count": 4,
   "id": "ab7b2c30",
   "metadata": {},
   "outputs": [
    {
     "name": "stdout",
     "output_type": "stream",
     "text": [
      "data\\chest_xray\\RESIZE\\PNEUMONIA\n"
     ]
    }
   ],
   "source": [
    "# separate files in PNEUMONIA folder by filename containing \"bacteria\" or \"virus\"\n",
    "dirs = os.path.join(output, \"PNEUMONIA\")\n",
    "\n",
    "if not \"PNEUMONIA_BAC\" in os.listdir(dirs):\n",
    "            os.mkdir(os.path.join(output, \"PNEUMONIA_BAC\"))\n",
    "\n",
    "if not \"PNEUMONIA_VIR\" in os.listdir(dirs):\n",
    "            os.mkdir(os.path.join(output, \"PNEUMONIA_VIR\"))\n",
    "\n",
    "print(dirs)\n",
    "for item in os.listdir(dirs):\n",
    "    if \"bacteria\" in item:\n",
    "        #print(\"BACTERIA: \" + item)\n",
    "        os.rename(os.path.join(dirs, item), os.path.join(output, \"PNEUMONIA_BAC\", item))\n",
    "    elif \"virus\" in item:\n",
    "        #print(\"VIRUS: \" + item)\n",
    "        os.rename(os.path.join(dirs, item), os.path.join(output, \"PNEUMONIA_VIR\", item))"
   ]
  },
  {
   "cell_type": "markdown",
   "id": "1d78987c",
   "metadata": {},
   "source": [
    "Not all data in set (1) has target dimensions.  \n",
    "Resizing images in set (1)."
   ]
  },
  {
   "cell_type": "code",
   "execution_count": 11,
   "id": "63daeaaf",
   "metadata": {},
   "outputs": [],
   "source": [
    "output_path_set1 = os.path.join(\"data\", \"COVID-19_Radiography_Dataset\", \"RESIZE\")\n",
    "\n",
    "input_set1_normal = os.path.join(\"data\", \"COVID-19_Radiography_Dataset\", \"Normal\")\n",
    "input_set1_virpneu = os.path.join(\"data\", \"COVID-19_Radiography_Dataset\", \"Viral Pneumonia\")\n",
    "input_set1_covid = os.path.join(\"data\", \"COVID-19_Radiography_Dataset\", \"COVID\")\n",
    "\n",
    "def resize_png(path, path_out, dir_out):\n",
    "    if not dir_out in os.listdir(path_out):\n",
    "            os.mkdir(os.path.join(path_out,dir_out))\n",
    "            \n",
    "    dirs = os.listdir(path)\n",
    "\n",
    "    #print(dirs)\n",
    "    for item in dirs:\n",
    "        im = Image.open(os.path.join(path, item))\n",
    "        imResize = im.resize((256,256), Image.ANTIALIAS)\n",
    "        #print(item[:-4])\n",
    "    \n",
    "        imResize.save(os.path.join(path_out,dir_out, item[:-4] + '_re.png'), 'PNG', quality=90)"
   ]
  },
  {
   "cell_type": "code",
   "execution_count": 12,
   "id": "201a40f9",
   "metadata": {},
   "outputs": [],
   "source": [
    "resize_png(input_set1_normal,output_path_set1,\"Normal\")"
   ]
  },
  {
   "cell_type": "code",
   "execution_count": 13,
   "id": "eaae8197",
   "metadata": {},
   "outputs": [],
   "source": [
    "resize_png(input_set1_virpneu,output_path_set1,\"Viral Pneumonia\")"
   ]
  },
  {
   "cell_type": "code",
   "execution_count": 14,
   "id": "2d106bb8",
   "metadata": {},
   "outputs": [],
   "source": [
    "resize_png(input_set1_covid,output_path_set1,\"COVID\")"
   ]
  },
  {
   "cell_type": "markdown",
   "id": "4336b3dc",
   "metadata": {},
   "source": [
    "## Merging datasets"
   ]
  },
  {
   "cell_type": "code",
   "execution_count": 2,
   "id": "81d8db59",
   "metadata": {},
   "outputs": [],
   "source": [
    "#setting up source and destination paths\n",
    "path_dest = os.path.join(\"data\", \"DATASET\")\n",
    "path_set1 = os.path.join(\"data\", \"COVID-19_Radiography_Dataset\", \"RESIZE\")\n",
    "path_set2 = os.path.join(\"data\", \"chest_xray\", \"RESIZE\")\n",
    "\n",
    "dest_normal = os.path.join(path_dest, \"HEALTHY\")\n",
    "dest_bacpneu = os.path.join(path_dest, \"BACTERIAL_PNEUMONIA\")\n",
    "dest_virpneu = os.path.join(path_dest,\"VIRAL_PNEUMONIA\")\n",
    "dest_covid = os.path.join(path_dest, \"COVID19\")\n",
    "\n",
    "src_set1_normal = os.path.join(path_set1, \"Normal\")\n",
    "src_set1_virpneu = os.path.join(path_set1, \"Viral Pneumonia\")\n",
    "src_set1_covid = os.path.join(path_set1, \"COVID\")\n",
    "\n",
    "#src_set2_normal = os.path.join(path_set2, \"NORMAL\") #won't be moved due to set 1 including all but 242 images in here\n",
    "src_set2_bacpneu = os.path.join(path_set2, \"PNEUMONIA_BAC\")\n",
    "src_set2_virpneu = os.path.join(path_set2, \"PNEUMONIA_VIR\")"
   ]
  },
  {
   "cell_type": "markdown",
   "id": "e0002c62",
   "metadata": {},
   "source": [
    "Copy data from all source folders defined above into destination folders as unsplit data"
   ]
  },
  {
   "cell_type": "code",
   "execution_count": 3,
   "id": "79e44c59",
   "metadata": {},
   "outputs": [
    {
     "ename": "PermissionError",
     "evalue": "[Errno 13] Permission denied: 'data\\\\COVID-19_Radiography_Dataset\\\\RESIZE\\\\Normal'",
     "output_type": "error",
     "traceback": [
      "\u001b[1;31m---------------------------------------------------------------------------\u001b[0m",
      "\u001b[1;31mPermissionError\u001b[0m                           Traceback (most recent call last)",
      "\u001b[1;32m~\\AppData\\Local\\Temp/ipykernel_22572/1625658382.py\u001b[0m in \u001b[0;36m<module>\u001b[1;34m\u001b[0m\n\u001b[0;32m      4\u001b[0m \u001b[1;33m\u001b[0m\u001b[0m\n\u001b[0;32m      5\u001b[0m \u001b[1;31m# NORMAL dataset\u001b[0m\u001b[1;33m\u001b[0m\u001b[1;33m\u001b[0m\u001b[1;33m\u001b[0m\u001b[0m\n\u001b[1;32m----> 6\u001b[1;33m \u001b[0mshutil\u001b[0m\u001b[1;33m.\u001b[0m\u001b[0mcopyfile\u001b[0m\u001b[1;33m(\u001b[0m\u001b[0msrc_set1_normal\u001b[0m\u001b[1;33m,\u001b[0m \u001b[0mdest_normal\u001b[0m\u001b[1;33m)\u001b[0m\u001b[1;33m\u001b[0m\u001b[1;33m\u001b[0m\u001b[0m\n\u001b[0m\u001b[0;32m      7\u001b[0m \u001b[1;33m\u001b[0m\u001b[0m\n\u001b[0;32m      8\u001b[0m \u001b[1;31m#Bacterial pneumonia dataset\u001b[0m\u001b[1;33m\u001b[0m\u001b[1;33m\u001b[0m\u001b[1;33m\u001b[0m\u001b[0m\n",
      "\u001b[1;32mD:\\Programme\\Anaconda\\envs\\machine-learning2\\lib\\shutil.py\u001b[0m in \u001b[0;36mcopyfile\u001b[1;34m(src, dst, follow_symlinks)\u001b[0m\n\u001b[0;32m    262\u001b[0m         \u001b[0mos\u001b[0m\u001b[1;33m.\u001b[0m\u001b[0msymlink\u001b[0m\u001b[1;33m(\u001b[0m\u001b[0mos\u001b[0m\u001b[1;33m.\u001b[0m\u001b[0mreadlink\u001b[0m\u001b[1;33m(\u001b[0m\u001b[0msrc\u001b[0m\u001b[1;33m)\u001b[0m\u001b[1;33m,\u001b[0m \u001b[0mdst\u001b[0m\u001b[1;33m)\u001b[0m\u001b[1;33m\u001b[0m\u001b[1;33m\u001b[0m\u001b[0m\n\u001b[0;32m    263\u001b[0m     \u001b[1;32melse\u001b[0m\u001b[1;33m:\u001b[0m\u001b[1;33m\u001b[0m\u001b[1;33m\u001b[0m\u001b[0m\n\u001b[1;32m--> 264\u001b[1;33m         \u001b[1;32mwith\u001b[0m \u001b[0mopen\u001b[0m\u001b[1;33m(\u001b[0m\u001b[0msrc\u001b[0m\u001b[1;33m,\u001b[0m \u001b[1;34m'rb'\u001b[0m\u001b[1;33m)\u001b[0m \u001b[1;32mas\u001b[0m \u001b[0mfsrc\u001b[0m\u001b[1;33m,\u001b[0m \u001b[0mopen\u001b[0m\u001b[1;33m(\u001b[0m\u001b[0mdst\u001b[0m\u001b[1;33m,\u001b[0m \u001b[1;34m'wb'\u001b[0m\u001b[1;33m)\u001b[0m \u001b[1;32mas\u001b[0m \u001b[0mfdst\u001b[0m\u001b[1;33m:\u001b[0m\u001b[1;33m\u001b[0m\u001b[1;33m\u001b[0m\u001b[0m\n\u001b[0m\u001b[0;32m    265\u001b[0m             \u001b[1;31m# macOS\u001b[0m\u001b[1;33m\u001b[0m\u001b[1;33m\u001b[0m\u001b[1;33m\u001b[0m\u001b[0m\n\u001b[0;32m    266\u001b[0m             \u001b[1;32mif\u001b[0m \u001b[0m_HAS_FCOPYFILE\u001b[0m\u001b[1;33m:\u001b[0m\u001b[1;33m\u001b[0m\u001b[1;33m\u001b[0m\u001b[0m\n",
      "\u001b[1;31mPermissionError\u001b[0m: [Errno 13] Permission denied: 'data\\\\COVID-19_Radiography_Dataset\\\\RESIZE\\\\Normal'"
     ]
    }
   ],
   "source": [
    "#Copying data from source folders to merge datasets\n",
    "#appears to not be working due to an issue with jupyter notebook installation\n",
    "#for now data will have to be copied over manually\n",
    "\n",
    "# NORMAL dataset\n",
    "shutil.copyfile(src_set1_normal, dest_normal)\n",
    "\n",
    "#Bacterial pneumonia dataset\n",
    "shutil.copyfile(src_set2_bacpneu, dest_bacpneu)\n",
    "\n",
    "#viral pneumonia dataset\n",
    "shutil.copyfile(src_set1_virpneu, dest_virpneu)\n",
    "shutil.copyfile(src_set2_virpneu, dest_virpneu)\n",
    "\n",
    "#covid19 dataset\n",
    "shutil.copyfile(src_set1_covid, dest_covid)"
   ]
  },
  {
   "cell_type": "code",
   "execution_count": 4,
   "id": "03ed22d0",
   "metadata": {},
   "outputs": [
    {
     "name": "stdout",
     "output_type": "stream",
     "text": [
      "Healthy images: 10192\n",
      "Bacterial Pneumonia images: 2780\n",
      "Viral Pneumonia images: 2838\n",
      "COVID19 images: 3616\n"
     ]
    }
   ],
   "source": [
    "# count elements in folders\n",
    "n_count = 0\n",
    "for item in os.listdir(dest_normal):\n",
    "    n_count +=1\n",
    "\n",
    "print(\"Healthy images: \" + str(n_count))\n",
    "\n",
    "b_count = 0\n",
    "for item in os.listdir(dest_bacpneu):\n",
    "    b_count +=1\n",
    "\n",
    "print(\"Bacterial Pneumonia images: \" + str(b_count))\n",
    "\n",
    "v_count = 0\n",
    "for item in os.listdir(dest_virpneu):\n",
    "    v_count +=1\n",
    "\n",
    "print(\"Viral Pneumonia images: \" + str(v_count))\n",
    "\n",
    "c_count = 0\n",
    "for item in os.listdir(dest_covid):\n",
    "    c_count +=1\n",
    "\n",
    "print(\"COVID19 images: \" + str(c_count))\n",
    "\n",
    "## Calculation of possible splits. Not necessary for further code.\n",
    "# print()\n",
    "# print(\"Healthy splits: train(\" + str(int(n_count*.8)) + \"), test(\" + \n",
    "#                                      str(int(n_count*.15)) + \"), val(\" + str(int(n_count*.05)) + \")\")\n",
    "# print(\"Bacterial splits: train(\" + str(int(b_count*.8)) + \"), test(\" + \n",
    "#                                      str(int(b_count*.15)) + \"), val(\" + str(int(b_count*.05)) + \")\")\n",
    "# print(\"Viral splits: train(\" + str(int(v_count*.8)) + \"), test(\" + \n",
    "#                                      str(int(v_count*.15)) + \"), val(\" + str(int(v_count*.05)) + \")\")\n",
    "# print(\"COVID splits: train(\" + str(int(c_count*.8)) + \"), test(\" + \n",
    "#                                      str(int(c_count*.15)) + \"), val(\" + str(int(c_count*.05)) + \")\")"
   ]
  },
  {
   "cell_type": "markdown",
   "id": "8e296529",
   "metadata": {},
   "source": [
    "### Create Datasplits based on percentages set out at the start\n",
    "train(80%), test (15%), val(5%)\n"
   ]
  },
  {
   "cell_type": "code",
   "execution_count": 5,
   "id": "85b0954e",
   "metadata": {},
   "outputs": [
    {
     "name": "stdout",
     "output_type": "stream",
     "text": [
      "NORMAL\n",
      "train:8132\n",
      "test:1550\n",
      "val:510\n"
     ]
    }
   ],
   "source": [
    "from sklearn.model_selection import train_test_split\n",
    "import random\n",
    "\n",
    "# NORMAL\n",
    "# read all data from Dataset folder\n",
    "all_normal = os.listdir(dest_normal)\n",
    "\n",
    "# shuffle data in list to randomise output\n",
    "random.shuffle(all_normal)\n",
    "\n",
    "# data is split twice via train_test_split to create datasplits for ML training, testing, and validation\n",
    "rest_normal, val_normal = train_test_split(all_normal, train_size=0.95, test_size=0.05)\n",
    "train_normal, test_normal = train_test_split(rest_normal, train_size=0.84, test_size=0.16)\n",
    "\n",
    "# output final dataset sizes\n",
    "print(\"NORMAL\")\n",
    "print(\"train:\" + str(len(train_normal)))\n",
    "print(\"test:\" + str(len(test_normal)))\n",
    "print(\"val:\" + str(len(val_normal)))"
   ]
  },
  {
   "cell_type": "code",
   "execution_count": 6,
   "id": "fbad93ae",
   "metadata": {},
   "outputs": [
    {
     "name": "stdout",
     "output_type": "stream",
     "text": [
      "PNEUMONIA_BAC\n",
      "train:2218\n",
      "test:423\n",
      "val:139\n"
     ]
    }
   ],
   "source": [
    "# bacterial pneu\n",
    "# read all data from Dataset folder\n",
    "all_bacpneu = os.listdir(dest_bacpneu)\n",
    "\n",
    "# shuffle data in list to randomise output\n",
    "random.shuffle(all_bacpneu)\n",
    "\n",
    "# data is split twice via train_test_split to create datasplits for ML training, testing, and validation\n",
    "rest_bacpneu, val_bacpneu = train_test_split(all_bacpneu, train_size=0.95, test_size=0.05)\n",
    "train_bacpneu, test_bacpneu = train_test_split(rest_bacpneu, train_size=0.84, test_size=0.16)\n",
    "\n",
    "# output final dataset sizes\n",
    "print(\"PNEUMONIA_BAC\")\n",
    "print(\"train:\" + str(len(train_bacpneu)))\n",
    "print(\"test:\" + str(len(test_bacpneu)))\n",
    "print(\"val:\" + str(len(val_bacpneu)))"
   ]
  },
  {
   "cell_type": "code",
   "execution_count": 7,
   "id": "a69209e9",
   "metadata": {},
   "outputs": [
    {
     "name": "stdout",
     "output_type": "stream",
     "text": [
      "PNEUMONIA_VIR\n",
      "train:2264\n",
      "test:432\n",
      "val:142\n"
     ]
    }
   ],
   "source": [
    "# viral pneu\n",
    "# read all data from Dataset folder\n",
    "all_virpneu = os.listdir(dest_virpneu)\n",
    "\n",
    "random.shuffle(all_virpneu)\n",
    "\n",
    "# data is split twice via train_test_split to create datasplits for ML training, testing, and validation\n",
    "rest_virpneu, val_virpneu = train_test_split(all_virpneu, train_size=0.95, test_size=0.05)\n",
    "train_virpneu, test_virpneu = train_test_split(rest_virpneu, train_size=0.84, test_size=0.16)\n",
    "\n",
    "# output final dataset sizes\n",
    "print(\"PNEUMONIA_VIR\")\n",
    "print(\"train:\" + str(len(train_virpneu)))\n",
    "print(\"test:\" + str(len(test_virpneu)))\n",
    "print(\"val:\" + str(len(val_virpneu)))"
   ]
  },
  {
   "cell_type": "code",
   "execution_count": 8,
   "id": "ad600697",
   "metadata": {},
   "outputs": [
    {
     "name": "stdout",
     "output_type": "stream",
     "text": [
      "COVID\n",
      "train:2885\n",
      "test:550\n",
      "val:181\n"
     ]
    }
   ],
   "source": [
    "# covid\n",
    "# read all data from Dataset folder\n",
    "all_covid = os.listdir(dest_covid)\n",
    "\n",
    "random.shuffle(all_covid)\n",
    "\n",
    "# data is split twice via train_test_split to create datasplits for ML training, testing, and validation\n",
    "rest_covid, val_covid = train_test_split(all_covid, train_size=0.95, test_size=0.05)\n",
    "train_covid, test_covid = train_test_split(rest_covid, train_size=0.84, test_size=0.16)\n",
    "\n",
    "# output final dataset sizes\n",
    "print(\"COVID\")\n",
    "print(\"train:\" + str(len(train_covid)))\n",
    "print(\"test:\" + str(len(test_covid)))\n",
    "print(\"val:\" + str(len(val_covid)))"
   ]
  },
  {
   "cell_type": "code",
   "execution_count": 13,
   "id": "521e400a",
   "metadata": {},
   "outputs": [],
   "source": [
    "# method to split all folders into datasets\n",
    "def move_splits(train, test, val, source, dest_str):\n",
    "    if not \"_SPLITS\" in os.listdir(path_dest):\n",
    "        os.mkdir(os.path.join(path_dest,\"_SPLITS\"))\n",
    "            \n",
    "    split_dest = os.path.join(path_dest,\"_SPLITS\")\n",
    "    if not \"train\" in os.listdir(split_dest):\n",
    "        os.mkdir(os.path.join(split_dest,\"train\"))\n",
    "    \n",
    "    if not \"test\" in os.listdir(split_dest):\n",
    "        os.mkdir(os.path.join(split_dest,\"test\"))\n",
    "    \n",
    "    if not \"val\" in os.listdir(split_dest):\n",
    "        os.mkdir(os.path.join(split_dest,\"val\"))\n",
    "            \n",
    "    train_dir = os.path.join(split_dest,\"train\")\n",
    "    test_dir = os.path.join(split_dest,\"test\")\n",
    "    val_dir = os.path.join(split_dest,\"val\")\n",
    "    \n",
    "    \n",
    "    #training set\n",
    "    for item in train:\n",
    "        if not dest_str in os.listdir(train_dir):\n",
    "            os.mkdir(os.path.join(train_dir,dest_str))\n",
    "        os.rename(os.path.join(source, item), os.path.join(train_dir, dest_str, item))\n",
    "\n",
    "    #test set\n",
    "    for item in test:\n",
    "        if not dest_str in os.listdir(test_dir):\n",
    "            os.mkdir(os.path.join(test_dir,dest_str))\n",
    "        os.rename(os.path.join(source, item), os.path.join(test_dir, dest_str, item))\n",
    "\n",
    "    #validation set\n",
    "    for item in val:\n",
    "        if not dest_str in os.listdir(val_dir):\n",
    "            os.mkdir(os.path.join(val_dir,dest_str))\n",
    "        os.rename(os.path.join(source, item), os.path.join(val_dir, dest_str, item))"
   ]
  },
  {
   "cell_type": "code",
   "execution_count": 15,
   "id": "b05452b7",
   "metadata": {},
   "outputs": [],
   "source": [
    "move_splits(train_normal, test_normal, val_normal, dest_normal, \"HEALTHY\")"
   ]
  },
  {
   "cell_type": "code",
   "execution_count": 16,
   "id": "a714f4a9",
   "metadata": {},
   "outputs": [],
   "source": [
    "move_splits(train_bacpneu, test_bacpneu, val_bacpneu, dest_bacpneu, \"PNEUMONIA_BAC\")"
   ]
  },
  {
   "cell_type": "code",
   "execution_count": 17,
   "id": "c56452b7",
   "metadata": {},
   "outputs": [],
   "source": [
    "move_splits(train_virpneu, test_virpneu, val_virpneu, dest_virpneu, \"PNEUMONIA_VIR\")"
   ]
  },
  {
   "cell_type": "code",
   "execution_count": 18,
   "id": "9bd33947",
   "metadata": {},
   "outputs": [],
   "source": [
    "move_splits(train_covid, test_covid, val_covid, dest_covid, \"COVID\")"
   ]
  }
 ],
 "metadata": {
  "kernelspec": {
   "display_name": "Python 3 (ipykernel)",
   "language": "python",
   "name": "python3"
  },
  "language_info": {
   "codemirror_mode": {
    "name": "ipython",
    "version": 3
   },
   "file_extension": ".py",
   "mimetype": "text/x-python",
   "name": "python",
   "nbconvert_exporter": "python",
   "pygments_lexer": "ipython3",
   "version": "3.8.12"
  }
 },
 "nbformat": 4,
 "nbformat_minor": 5
}
